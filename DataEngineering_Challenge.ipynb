{
  "nbformat": 4,
  "nbformat_minor": 0,
  "metadata": {
    "colab": {
      "name": "Untitled3.ipynb",
      "provenance": [],
      "collapsed_sections": []
    },
    "kernelspec": {
      "name": "python3",
      "display_name": "Python 3"
    },
    "language_info": {
      "name": "python"
    }
  },
  "cells": [
    {
      "cell_type": "code",
      "execution_count": 87,
      "metadata": {
        "colab": {
          "base_uri": "https://localhost:8080/"
        },
        "id": "mOrgwaI4QCWc",
        "outputId": "ce94bdf2-aeb9-47cb-ba16-a364c1da03ca"
      },
      "outputs": [
        {
          "output_type": "stream",
          "name": "stdout",
          "text": [
            "\r0% [Working]\r            \rHit:1 http://security.ubuntu.com/ubuntu bionic-security InRelease\n",
            "\r0% [Connecting to archive.ubuntu.com (91.189.91.39)] [Connected to cloud.r-proj\r                                                                               \rHit:2 https://cloud.r-project.org/bin/linux/ubuntu bionic-cran40/ InRelease\n",
            "\r0% [Waiting for headers] [Connecting to ppa.launchpad.net (185.125.190.52)] [Co\r0% [1 InRelease gpgv 88.7 kB] [Waiting for headers] [Connecting to ppa.launchpa\r                                                                               \rHit:3 http://archive.ubuntu.com/ubuntu bionic InRelease\n",
            "\r0% [1 InRelease gpgv 88.7 kB] [Waiting for headers] [Connecting to ppa.launchpa\r                                                                               \rGet:4 http://archive.ubuntu.com/ubuntu bionic-updates InRelease [88.7 kB]\n",
            "\r0% [1 InRelease gpgv 88.7 kB] [4 InRelease 15.6 kB/88.7 kB 18%] [Connecting to \r                                                                               \rHit:5 https://developer.download.nvidia.com/compute/cuda/repos/ubuntu1804/x86_64  InRelease\n",
            "\r0% [1 InRelease gpgv 88.7 kB] [4 InRelease 15.6 kB/88.7 kB 18%] [Connecting to \r0% [1 InRelease gpgv 88.7 kB] [Waiting for headers] [Connecting to ppa.launchpa\r                                                                               \rGet:6 http://archive.ubuntu.com/ubuntu bionic-backports InRelease [74.6 kB]\n",
            "Hit:7 http://ppa.launchpad.net/c2d4u.team/c2d4u4.0+/ubuntu bionic InRelease\n",
            "Ign:8 https://developer.download.nvidia.com/compute/machine-learning/repos/ubuntu1804/x86_64  InRelease\n",
            "Hit:9 https://developer.download.nvidia.com/compute/machine-learning/repos/ubuntu1804/x86_64  Release\n",
            "Hit:10 http://ppa.launchpad.net/cran/libgit2/ubuntu bionic InRelease\n",
            "Hit:11 http://ppa.launchpad.net/deadsnakes/ppa/ubuntu bionic InRelease\n",
            "Hit:12 http://ppa.launchpad.net/graphics-drivers/ppa/ubuntu bionic InRelease\n",
            "Fetched 163 kB in 2s (76.7 kB/s)\n",
            "Reading package lists... Done\n",
            "sample_data\t\t       spark-2.3.1-bin-hadoop2.7.tgz.1\tspark-warehouse\n",
            "spark-2.3.1-bin-hadoop2.7      spark-2.3.1-bin-hadoop2.7.tgz.2\tweblog.txt\n",
            "spark-2.3.1-bin-hadoop2.7.tgz  spark-2.3.1-bin-hadoop2.7.tgz.3\n"
          ]
        }
      ],
      "source": [
        "# Pre requisite for workinmg with google colab \n",
        "!apt-get update\n",
        "!apt-get install openjdk-8-jdk-headless -qq > /dev/null\n",
        "!wget -q http://archive.apache.org/dist/spark/spark-2.3.1/spark-2.3.1-bin-hadoop2.7.tgz\n",
        "!tar xf spark-2.3.1-bin-hadoop2.7.tgz\n",
        "!pip install -q findspark\n",
        "\n",
        "import os\n",
        "os.environ[\"JAVA_HOME\"] = \"/usr/lib/jvm/java-8-openjdk-amd64\"\n",
        "os.environ[\"SPARK_HOME\"] = \"/content/spark-2.3.1-bin-hadoop2.7\"\n",
        "\n",
        "!ls\n",
        "\n",
        "import findspark\n",
        "findspark.init()\n",
        "\n",
        "# Import the libraries\n",
        "from pyspark.sql import SparkSession\n",
        "from pyspark.sql import Row\n",
        "from pyspark.sql.types import *\n",
        "from pyspark.sql.functions import *"
      ]
    },
    {
      "cell_type": "code",
      "source": [
        "# Spark Session\n",
        "spark = SparkSession.builder.master(\"local\").appName(\"Data Engineering Challenge\").getOrCreate()\n",
        "sc = spark.sparkContext"
      ],
      "metadata": {
        "id": "kW2Jx9FRQE9v"
      },
      "execution_count": 88,
      "outputs": []
    },
    {
      "cell_type": "code",
      "source": [
        "# the log file has been renamed to weblog.txt and uploaded in the google colab session\n",
        "# Load the data by creating rdd\n",
        "rdd = sc.textFile('weblog.txt')\n",
        "# split the data from log text file on whitespaces into different columns\n",
        "rdd = rdd.map(lambda line: line.split(\" \"))"
      ],
      "metadata": {
        "id": "makgsbSYYcP-"
      },
      "execution_count": 89,
      "outputs": []
    },
    {
      "cell_type": "code",
      "source": [
        "# Taking the values from 1st, 3rd and 12th columns and RDD is converted to Dataframe\n",
        "df_final = rdd.map(lambda line: Row(timestamp=line[0], ipaddress=line[2].split(':')[0],url=line[12])).toDF()\n",
        "df_final.show(5)"
      ],
      "metadata": {
        "colab": {
          "base_uri": "https://localhost:8080/"
        },
        "id": "Q3OAVCtBhJBa",
        "outputId": "80232938-8847-45c7-a81c-a6026551c004"
      },
      "execution_count": 90,
      "outputs": [
        {
          "output_type": "stream",
          "name": "stdout",
          "text": [
            "+---------------+--------------------+--------------------+\n",
            "|      ipaddress|           timestamp|                 url|\n",
            "+---------------+--------------------+--------------------+\n",
            "|123.242.248.130|2015-07-22T09:00:...|https://paytm.com...|\n",
            "|  203.91.211.44|2015-07-22T09:00:...|https://paytm.com...|\n",
            "|    1.39.32.179|2015-07-22T09:00:...|https://paytm.com...|\n",
            "| 180.179.213.94|2015-07-22T09:00:...|https://paytm.com...|\n",
            "| 120.59.192.208|2015-07-22T09:00:...|https://paytm.com...|\n",
            "+---------------+--------------------+--------------------+\n",
            "only showing top 5 rows\n",
            "\n"
          ]
        }
      ]
    },
    {
      "cell_type": "code",
      "source": [
        "# timestamp string field is converted to TimestampType for basic arithmetic\n",
        "df_final = df_final.withColumn('timestamp', df_final['timestamp'].cast(TimestampType()))\n",
        "df_final.show(5)"
      ],
      "metadata": {
        "colab": {
          "base_uri": "https://localhost:8080/"
        },
        "id": "sLeXJdNgaWEd",
        "outputId": "72b0163a-6bf5-4804-ab26-2c3359cb522e"
      },
      "execution_count": 91,
      "outputs": [
        {
          "output_type": "stream",
          "name": "stdout",
          "text": [
            "+---------------+--------------------+--------------------+\n",
            "|      ipaddress|           timestamp|                 url|\n",
            "+---------------+--------------------+--------------------+\n",
            "|123.242.248.130|2015-07-22 09:00:...|https://paytm.com...|\n",
            "|  203.91.211.44|2015-07-22 09:00:...|https://paytm.com...|\n",
            "|    1.39.32.179|2015-07-22 09:00:...|https://paytm.com...|\n",
            "| 180.179.213.94|2015-07-22 09:00:...|https://paytm.com...|\n",
            "| 120.59.192.208|2015-07-22 09:00:...|https://paytm.com...|\n",
            "+---------------+--------------------+--------------------+\n",
            "only showing top 5 rows\n",
            "\n"
          ]
        }
      ]
    },
    {
      "cell_type": "code",
      "source": [
        "# Q1: SESSIONIZE THE WEB LOG BY IP.\n",
        "# sessionize data based on 15 min fixed window time \n",
        "#assign an sequentially increasing Id as SessionId to each session\n",
        "SessionDF = df_final.select(window(\"timestamp\", \"15 minutes\").alias('FixedTimeWindow'),'timestamp',\"ipaddress\").groupBy('FixedTimeWindow','ipaddress').count().withColumnRenamed('count', 'NumberHitsInSessionForIp')\n",
        "#SessionDF.show(2)\n",
        "SessionDF = SessionDF.withColumn(\"SessionId\", monotonically_increasing_id())\n",
        "SessionDF.show(5,False)"
      ],
      "metadata": {
        "colab": {
          "base_uri": "https://localhost:8080/"
        },
        "id": "OLMX7C6kahmD",
        "outputId": "85900d5d-d5f2-4367-e356-c9d2248eda6f"
      },
      "execution_count": 92,
      "outputs": [
        {
          "output_type": "stream",
          "name": "stdout",
          "text": [
            "+------------------------------------------+--------------+------------------------+---------+\n",
            "|FixedTimeWindow                           |ipaddress     |NumberHitsInSessionForIp|SessionId|\n",
            "+------------------------------------------+--------------+------------------------+---------+\n",
            "|[2015-07-22 09:00:00, 2015-07-22 09:15:00]|1.38.17.231   |14                      |0        |\n",
            "|[2015-07-22 09:00:00, 2015-07-22 09:15:00]|161.51.16.10  |1                       |1        |\n",
            "|[2015-07-22 09:00:00, 2015-07-22 09:15:00]|117.213.93.103|3                       |2        |\n",
            "|[2015-07-22 09:00:00, 2015-07-22 09:15:00]|165.225.104.65|35                      |3        |\n",
            "|[2015-07-22 09:00:00, 2015-07-22 09:15:00]|1.39.46.218   |7                       |4        |\n",
            "+------------------------------------------+--------------+------------------------+---------+\n",
            "only showing top 5 rows\n",
            "\n"
          ]
        }
      ]
    },
    {
      "cell_type": "code",
      "source": [
        "# join the time stamps and url to the Sessionized DF\n",
        "dfWithTimeStamps = df_final.select(window(\"timestamp\", \"15 minutes\").alias('FixedTimeWindow'),'timestamp',\"ipaddress\",\"url\")\n",
        "SessionDF = dfWithTimeStamps.join(SessionDF,['FixedTimeWindow','ipaddress'])\n",
        "SessionDF.show(2)"
      ],
      "metadata": {
        "colab": {
          "base_uri": "https://localhost:8080/"
        },
        "id": "466-i-FrbYXw",
        "outputId": "83cbfd6c-6252-4fbd-9d50-db4d777bfc1a"
      },
      "execution_count": 93,
      "outputs": [
        {
          "output_type": "stream",
          "name": "stdout",
          "text": [
            "+--------------------+---------------+--------------------+--------------------+------------------------+---------+\n",
            "|     FixedTimeWindow|      ipaddress|           timestamp|                 url|NumberHitsInSessionForIp|SessionId|\n",
            "+--------------------+---------------+--------------------+--------------------+------------------------+---------+\n",
            "|[2015-07-22 02:30...|  106.51.141.73|2015-07-22 02:44:...|https://paytm.com...|                       1|      217|\n",
            "|[2015-07-22 02:30...|107.167.109.115|2015-07-22 02:43:...|http://www.paytm....|                       1|      211|\n",
            "+--------------------+---------------+--------------------+--------------------+------------------------+---------+\n",
            "only showing top 2 rows\n",
            "\n"
          ]
        }
      ]
    },
    {
      "cell_type": "code",
      "source": [
        "# Finding the first hit time of each ip for each session and join in to our session df\n",
        "FirstHitTimeStamps = SessionDF.groupBy(\"SessionId\").agg(min(\"timestamp\").alias('FirstHitTime'))\n",
        "SessionDF = FirstHitTimeStamps.join(SessionDF,['SessionId'])\n",
        "SessionDF.select(col(\"SessionId\"),col(\"ipaddress\"),col(\"FirstHitTime\")).show(20)"
      ],
      "metadata": {
        "colab": {
          "base_uri": "https://localhost:8080/"
        },
        "id": "N4gdU13XbuTI",
        "outputId": "eb23e4b3-90aa-419a-b16f-84726c9c1d99"
      },
      "execution_count": 94,
      "outputs": [
        {
          "output_type": "stream",
          "name": "stdout",
          "text": [
            "+---------+--------------+--------------------+\n",
            "|SessionId|     ipaddress|        FirstHitTime|\n",
            "+---------+--------------+--------------------+\n",
            "|       26|  218.248.82.9|2015-07-22 09:02:...|\n",
            "|       26|  218.248.82.9|2015-07-22 09:02:...|\n",
            "|       26|  218.248.82.9|2015-07-22 09:02:...|\n",
            "|       26|  218.248.82.9|2015-07-22 09:02:...|\n",
            "|       29|  27.62.30.188|2015-07-22 09:02:...|\n",
            "|       29|  27.62.30.188|2015-07-22 09:02:...|\n",
            "|       29|  27.62.30.188|2015-07-22 09:02:...|\n",
            "|       29|  27.62.30.188|2015-07-22 09:02:...|\n",
            "|      474|101.221.128.95|2015-07-22 10:35:...|\n",
            "|      474|101.221.128.95|2015-07-22 10:35:...|\n",
            "|      474|101.221.128.95|2015-07-22 10:35:...|\n",
            "|      474|101.221.128.95|2015-07-22 10:35:...|\n",
            "|      474|101.221.128.95|2015-07-22 10:35:...|\n",
            "|      474|101.221.128.95|2015-07-22 10:35:...|\n",
            "|      474|101.221.128.95|2015-07-22 10:35:...|\n",
            "|      474|101.221.128.95|2015-07-22 10:35:...|\n",
            "|      474|101.221.128.95|2015-07-22 10:35:...|\n",
            "|      474|101.221.128.95|2015-07-22 10:35:...|\n",
            "|      474|101.221.128.95|2015-07-22 10:35:...|\n",
            "|      474|101.221.128.95|2015-07-22 10:35:...|\n",
            "+---------+--------------+--------------------+\n",
            "only showing top 20 rows\n",
            "\n"
          ]
        }
      ]
    },
    {
      "cell_type": "code",
      "source": [
        "# TIME DURATION OF SESSION\n",
        "# Duration of a session = time difference of first and last hit in a session \n",
        "# if there is only one hit in a session the duration is zero\n",
        "timeDiff = (unix_timestamp(SessionDF.timestamp)-unix_timestamp(SessionDF.FirstHitTime))\n",
        "SessionDF = SessionDF.withColumn(\"timeDiffwithFirstHit\", timeDiff)\n",
        "tmpdf = SessionDF.groupBy(\"SessionId\").agg(max(\"timeDiffwithFirstHit\").alias(\"SessionDuration\"))\n",
        "SessionDF = SessionDF.join(tmpdf,['SessionId'])\n",
        "SessionDF.select(col(\"SessionId\"),col(\"ipaddress\"),col(\"SessionDuration\")).show(20)"
      ],
      "metadata": {
        "colab": {
          "base_uri": "https://localhost:8080/"
        },
        "id": "6vUlJtUxc95g",
        "outputId": "99be1f14-049b-4ea5-f19b-647e7d25c2e1"
      },
      "execution_count": 97,
      "outputs": [
        {
          "output_type": "stream",
          "name": "stdout",
          "text": [
            "+---------+--------------+---------------+\n",
            "|SessionId|     ipaddress|SessionDuration|\n",
            "+---------+--------------+---------------+\n",
            "|       26|  218.248.82.9|             13|\n",
            "|       26|  218.248.82.9|             13|\n",
            "|       26|  218.248.82.9|             13|\n",
            "|       26|  218.248.82.9|             13|\n",
            "|       29|  27.62.30.188|             33|\n",
            "|       29|  27.62.30.188|             33|\n",
            "|       29|  27.62.30.188|             33|\n",
            "|       29|  27.62.30.188|             33|\n",
            "|      474|101.221.128.95|            226|\n",
            "|      474|101.221.128.95|            226|\n",
            "|      474|101.221.128.95|            226|\n",
            "|      474|101.221.128.95|            226|\n",
            "|      474|101.221.128.95|            226|\n",
            "|      474|101.221.128.95|            226|\n",
            "|      474|101.221.128.95|            226|\n",
            "|      474|101.221.128.95|            226|\n",
            "|      474|101.221.128.95|            226|\n",
            "|      474|101.221.128.95|            226|\n",
            "|      474|101.221.128.95|            226|\n",
            "|      474|101.221.128.95|            226|\n",
            "+---------+--------------+---------------+\n",
            "only showing top 20 rows\n",
            "\n"
          ]
        }
      ]
    },
    {
      "cell_type": "code",
      "source": [
        "#Q2: AVEARAGE SESSION TIME\n",
        "meandf = SessionDF.groupBy().avg('SessionDuration')\n",
        "meandf.show(3)"
      ],
      "metadata": {
        "colab": {
          "base_uri": "https://localhost:8080/"
        },
        "id": "7zBmoU7odJLX",
        "outputId": "ef131661-ebb2-4260-dd56-ef1205acdd07"
      },
      "execution_count": 99,
      "outputs": [
        {
          "output_type": "stream",
          "name": "stdout",
          "text": [
            "+--------------------+\n",
            "|avg(SessionDuration)|\n",
            "+--------------------+\n",
            "|  141.58578161415625|\n",
            "+--------------------+\n",
            "\n"
          ]
        }
      ]
    },
    {
      "cell_type": "code",
      "source": [
        "#Q3: UNIQUE URL VISITS PER SESSION\n",
        "# Determine unique URL visits per session. To clarify, count a hit to a unique URL only once per session\n",
        "dfURL = SessionDF.groupBy(\"SessionId\",\"URL\").count().distinct().withColumnRenamed('count', 'hitURLcount')\n",
        "dfURL.show(20)"
      ],
      "metadata": {
        "colab": {
          "base_uri": "https://localhost:8080/"
        },
        "id": "mpUw285Ddeu4",
        "outputId": "95448bbc-4bbb-4e41-fc87-88deea9cfca5"
      },
      "execution_count": 100,
      "outputs": [
        {
          "output_type": "stream",
          "name": "stdout",
          "text": [
            "+----------+--------------------+-----------+\n",
            "| SessionId|                 URL|hitURLcount|\n",
            "+----------+--------------------+-----------+\n",
            "|        26|https://paytm.com...|          2|\n",
            "|        26|http://www.paytm....|          2|\n",
            "|        29|https://paytm.com...|          1|\n",
            "|        29|https://paytm.com...|          1|\n",
            "|        29|https://paytm.com...|          1|\n",
            "|        29|https://paytm.com...|          1|\n",
            "|       474|https://paytm.com...|          2|\n",
            "|       474|https://paytm.com...|          2|\n",
            "|       474|https://paytm.com...|          2|\n",
            "|       474|https://paytm.com...|          5|\n",
            "|       474|https://paytm.com...|          3|\n",
            "|       474|https://paytm.com...|          2|\n",
            "|       474|https://paytm.com...|          1|\n",
            "|       474|https://paytm.com...|          1|\n",
            "|       474|https://paytm.com...|          1|\n",
            "|       474|https://paytm.com...|          1|\n",
            "|8589934658|https://paytm.com...|          1|\n",
            "|8589934965|https://paytm.com...|          1|\n",
            "|8589934965|https://paytm.com...|          1|\n",
            "|8589935171|https://paytm.com...|          1|\n",
            "+----------+--------------------+-----------+\n",
            "only showing top 20 rows\n",
            "\n"
          ]
        }
      ]
    },
    {
      "cell_type": "code",
      "source": [
        "#Q4: MOST ENGAGED USER\n",
        "#find the IPs with the longest session times\n",
        "EngagedUsers = SessionDF.select(\"ipaddress\",\"SessionID\",\"SessionDuration\").sort(col(\"SessionDuration\").desc()).distinct()\n",
        "EngagedUsers.show(3)"
      ],
      "metadata": {
        "colab": {
          "base_uri": "https://localhost:8080/"
        },
        "id": "43LInIj3dvrD",
        "outputId": "f5446ab0-f35d-4fed-ec0a-7972427d8315"
      },
      "execution_count": 101,
      "outputs": [
        {
          "output_type": "stream",
          "name": "stdout",
          "text": [
            "+---------------+------------+---------------+\n",
            "|      ipaddress|   SessionID|SessionDuration|\n",
            "+---------------+------------+---------------+\n",
            "| 164.100.96.254|249108103236|            847|\n",
            "| 111.119.199.22|283467841590|            839|\n",
            "|117.220.186.227|755914244158|            804|\n",
            "+---------------+------------+---------------+\n",
            "only showing top 3 rows\n",
            "\n"
          ]
        }
      ]
    }
  ]
}